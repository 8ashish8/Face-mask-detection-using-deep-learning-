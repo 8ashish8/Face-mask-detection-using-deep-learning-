{
 "cells": [
  {
   "cell_type": "code",
   "execution_count": 1,
   "id": "9a97a0d7-81f7-4c93-8dc4-30c15fc516de",
   "metadata": {},
   "outputs": [],
   "source": [
    "import cv2 as cv\n",
    "import numpy as np\n",
    "import seaborn as sns\n",
    "from sklearn.svm import SVC\n",
    "from matplotlib import pyplot as plt\n",
    "from sklearn.decomposition import PCA\n",
    "from sklearn.metrics import accuracy_score\n",
    "from sklearn.metrics import confusion_matrix\n",
    "from sklearn.metrics import classification_report\n",
    "from sklearn.model_selection import train_test_split"
   ]
  },
  {
   "cell_type": "code",
   "execution_count": 2,
   "id": "44d30a6d-4d63-42ba-a125-5b6407383fd7",
   "metadata": {},
   "outputs": [],
   "source": [
    "pretrained = cv.CascadeClassifier('haarcascade_frontalface_default.xml')"
   ]
  },
  {
   "cell_type": "code",
   "execution_count": 3,
   "id": "87a32105-2acd-42b6-b4df-2530343f9bee",
   "metadata": {},
   "outputs": [],
   "source": [
    "# Load the pre-trained face detection model\n",
    "pretrained = cv.CascadeClassifier(cv.data.haarcascades + 'haarcascade_frontalface_default.xml')\n",
    "\n",
    "# Open a video capture object\n",
    "capture = cv.VideoCapture(0)\n",
    "# capture = cv.VideoCapture('mask.mp4')\n",
    "\n",
    "data = []\n",
    "while True:\n",
    "    ret, img = capture.read()\n",
    "    if ret:\n",
    "        faces = pretrained.detectMultiScale(img)\n",
    "        for x, y, w, h in faces:\n",
    "            cv.rectangle(img, (x, y), (x+w, y+h), (255, 0, 255), 4)\n",
    "            face = img[y:y+h, x:x+w, :]\n",
    "            face = cv.resize(face, (50, 50))\n",
    "            \n",
    "            if len(data) < 400:\n",
    "                data.append(face)\n",
    "                \n",
    "        cv.imshow('Window', img)\n",
    "        if cv.waitKey(2) == 27 or len(data) >= 200:\n",
    "            break\n",
    "\n",
    "capture.release()\n",
    "cv.destroyAllWindows()"
   ]
  },
  {
   "cell_type": "code",
   "execution_count": 4,
   "id": "837f6613-9397-4713-8ae8-2e19486181fe",
   "metadata": {},
   "outputs": [],
   "source": [
    "np.save('mask.npy', data)"
   ]
  },
  {
   "cell_type": "code",
   "execution_count": 5,
   "id": "849e8973-b9c5-4581-9876-9a55e31e0c0a",
   "metadata": {},
   "outputs": [
    {
     "data": {
      "image/png": "[encoded data removed]",
      "text/plain": [
       "<Figure size 200x200 with 1 Axes>"
      ]
     },
     "metadata": {},
     "output_type": "display_data"
    }
   ],
   "source": [
    "plt.figure(figsize=(2,2))\n",
    "plt.imshow(data[0])\n",
    "plt.axis(False)\n",
    "plt.show()"
   ]
  },
  {
   "cell_type": "code",
   "execution_count": 6,
   "id": "b3b0ca95-0145-4ace-87f1-2535e08d8451",
   "metadata": {},
   "outputs": [],
   "source": [
    "# Load the pre-trained face detection model\n",
    "pretrained = cv.CascadeClassifier(cv.data.haarcascades + 'haarcascade_frontalface_default.xml')\n",
    "# Open a video capture object (0 for the default camera)\n",
    "\n",
    "capture = cv.VideoCapture(0)\n",
    "# Alternatively, you can open a video file by providing its path\n",
    "# capture = cv.VideoCapture('no_mask.mp4')\n",
    "\n",
    "data = []\n",
    "\n",
    "while True:\n",
    "    ret, img = capture.read()\n",
    "    \n",
    "    if ret:\n",
    "        faces = pretrained.detectMultiScale(img)\n",
    "        \n",
    "        for x, y, w, h in faces:\n",
    "            cv.rectangle(img, (x, y), (x+w, y+h), (255, 0, 255), 4)\n",
    "            face = img[y:y+h, x:x+w, :]\n",
    "            face = cv.resize(face, (50, 50))\n",
    "            #print(len(data))\n",
    "            \n",
    "            # Check if data list is less than 400 and append the face\n",
    "            if len(data) < 400:\n",
    "                data.append(face)\n",
    "                \n",
    "        cv.imshow('Window', img)\n",
    "        \n",
    "        # Break the loop if the 'Esc' key is pressed or data list reaches 400\n",
    "        if cv.waitKey(2) == 27 or len(data) >= 200:\n",
    "            break\n",
    "\n",
    "# Release the video capture object and close all windows\n",
    "capture.release()\n",
    "cv.destroyAllWindows()"
   ]
  },
  {
   "cell_type": "code",
   "execution_count": 7,
   "id": "cf5725e7-1b0f-4148-b2a6-e06a923cc212",
   "metadata": {},
   "outputs": [],
   "source": [
    "np.save('no_mask.npy', data)"
   ]
  },
  {
   "cell_type": "code",
   "execution_count": 8,
   "id": "7d3b50e8-d36a-4a0a-9ce6-a20c42ca9970",
   "metadata": {},
   "outputs": [
    {
     "data": {
      "image/png": "[encoded data removed]",
      "text/plain": [
       "<Figure size 200x200 with 1 Axes>"
      ]
     },
     "metadata": {},
     "output_type": "display_data"
    }
   ],
   "source": [
    "plt.figure(figsize=(2,2))\n",
    "plt.imshow(data[1])\n",
    "plt.axis(False)\n",
    "plt.show()"
   ]
  },
  {
   "cell_type": "code",
   "execution_count": 9,
   "id": "6f6bff7f-d32a-427e-a8c9-db2dfabfe0cf",
   "metadata": {},
   "outputs": [],
   "source": [
    "mask = np.load('mask.npy')\n",
    "no_mask = np.load('no_mask.npy')"
   ]
  },
  {
   "cell_type": "code",
   "execution_count": 10,
   "id": "38978f00-3cd0-4d47-bfe3-4b43d614bf08",
   "metadata": {},
   "outputs": [
    {
     "name": "stdout",
     "output_type": "stream",
     "text": [
      "(200, 50, 50, 3)\n",
      "(200, 50, 50, 3)\n"
     ]
    }
   ],
   "source": [
    "print(mask.shape)\n",
    "print(no_mask.shape)"
   ]
  },
  {
   "cell_type": "code",
   "execution_count": 11,
   "id": "5758b51b-10b0-44c3-be90-37bd2f4ef5ef",
   "metadata": {},
   "outputs": [
    {
     "name": "stdout",
     "output_type": "stream",
     "text": [
      "(200, 7500)\n",
      "(200, 7500)\n"
     ]
    }
   ],
   "source": [
    "#convert this 4D data into 2D \n",
    "mask =  mask.reshape(200,50*50*3)\n",
    "no_mask = no_mask.reshape(200,50*50*3)\n",
    "print(mask.shape)\n",
    "print(no_mask.shape)"
   ]
  },
  {
   "cell_type": "code",
   "execution_count": 12,
   "id": "9095121e-712f-47d2-a3f0-c98ebf49d507",
   "metadata": {},
   "outputs": [
    {
     "data": {
      "text/plain": [
       "(400, 7500)"
      ]
     },
     "execution_count": 12,
     "metadata": {},
     "output_type": "execute_result"
    }
   ],
   "source": [
    "# Concatenate all rows only\n",
    "X = np.r_[no_mask, mask]\n",
    "X.shape"
   ]
  },
  {
   "cell_type": "code",
   "execution_count": 13,
   "id": "63b156f3-6611-4e15-94e2-1f8f1db9bc20",
   "metadata": {},
   "outputs": [
    {
     "data": {
      "text/plain": [
       "(400,)"
      ]
     },
     "execution_count": 13,
     "metadata": {},
     "output_type": "execute_result"
    }
   ],
   "source": [
    "\n",
    "y = np.zeros(X.shape[0])\n",
    "y.shape"
   ]
  },
  {
   "cell_type": "code",
   "execution_count": 14,
   "id": "8aaa1cd3-5ff4-470a-98cb-c74253b6b4e7",
   "metadata": {},
   "outputs": [],
   "source": [
    "#1st 200 = mask, other = no mask\n",
    "y[200:] = 1.0"
   ]
  },
  {
   "cell_type": "code",
   "execution_count": 15,
   "id": "4640cadd-f3c4-4050-807b-7cddeadafc3a",
   "metadata": {},
   "outputs": [],
   "source": [
    "X_train, X_test, y_train, y_test = train_test_split(X, y, test_size=0.20)"
   ]
  },
  {
   "cell_type": "code",
   "execution_count": 16,
   "id": "3f4f0f13-8a11-4c3d-ac42-ebdd46a9800a",
   "metadata": {},
   "outputs": [
    {
     "name": "stdout",
     "output_type": "stream",
     "text": [
      "320\n",
      "80\n",
      "320\n",
      "80\n"
     ]
    }
   ],
   "source": [
    "print(len(X_train))\n",
    "print(len(X_test))\n",
    "print(len(y_train))\n",
    "print(len(y_test))"
   ]
  },
  {
   "cell_type": "code",
   "execution_count": 17,
   "id": "a428b433-6d78-4b20-91ab-23fdbc0577ac",
   "metadata": {},
   "outputs": [
    {
     "name": "stdout",
     "output_type": "stream",
     "text": [
      "(320, 7500)\n",
      "(80, 7500)\n"
     ]
    }
   ],
   "source": [
    "print(X_train.shape)\n",
    "print(X_test.shape)"
   ]
  },
  {
   "cell_type": "code",
   "execution_count": 18,
   "id": "6def6a81-60d9-4c4d-8fef-faad3d236dfd",
   "metadata": {},
   "outputs": [
    {
     "name": "stdout",
     "output_type": "stream",
     "text": [
      "(320, 3)\n",
      "(80, 3)\n"
     ]
    }
   ],
   "source": [
    "# 7500 is a big no, this cause slowing our ML process, So Dimensionality Reduction of ML\n",
    "pca = PCA(n_components=3)\n",
    "X_train = pca.fit_transform(X_train)\n",
    "X_test = pca.fit_transform(X_test)\n",
    "print(X_train.shape)\n",
    "print(X_test.shape)"
   ]
  },
  {
   "cell_type": "code",
   "execution_count": 19,
   "id": "90ed9259-8c66-444e-8047-52e0c637ed1c",
   "metadata": {},
   "outputs": [
    {
     "name": "stdout",
     "output_type": "stream",
     "text": [
      "[1494.52973421 -706.49270626  275.73905044]\n"
     ]
    }
   ],
   "source": [
    "print(X_train[0])"
   ]
  },
  {
   "cell_type": "code",
   "execution_count": 20,
   "id": "9447c478-4ade-47d0-9fed-7ef14c7f7421",
   "metadata": {},
   "outputs": [
    {
     "data": {
      "text/plain": [
       "1.0"
      ]
     },
     "execution_count": 20,
     "metadata": {},
     "output_type": "execute_result"
    }
   ],
   "source": [
    "model = SVC()\n",
    "model.fit(X_train, y_train)\n",
    "model.score(X_test, y_test)"
   ]
  },
  {
   "cell_type": "code",
   "execution_count": 21,
   "id": "5c7353be-f683-49a5-98cf-3bc3a54f9305",
   "metadata": {},
   "outputs": [
    {
     "data": {
      "text/plain": [
       "array([0., 1., 1., 0., 0., 1., 1., 0., 0., 1., 1., 0., 0., 1., 1., 0., 0.,\n",
       "       0., 1., 1., 0., 1., 0., 1., 0., 1., 1., 0., 0., 1., 1., 0., 1., 0.,\n",
       "       1., 0., 1., 1., 0., 1., 0., 1., 0., 0., 0., 1., 1., 0., 0., 0., 1.,\n",
       "       1., 0., 0., 1., 0., 0., 1., 1., 0., 0., 0., 1., 0., 0., 1., 0., 1.,\n",
       "       1., 1., 1., 1., 0., 1., 1., 1., 0., 1., 1., 0.])"
      ]
     },
     "execution_count": 21,
     "metadata": {},
     "output_type": "execute_result"
    }
   ],
   "source": [
    "y_pred = model.predict(X_test)\n",
    "y_pred"
   ]
  },
  {
   "cell_type": "code",
   "execution_count": 22,
   "id": "bbf3879e-dbd0-4de1-8359-67687456e14b",
   "metadata": {},
   "outputs": [
    {
     "data": {
      "text/plain": [
       "array([0., 1., 1., 0., 0., 1., 1., 0., 0., 1., 1., 0., 0., 1., 1., 0., 0.,\n",
       "       0., 1., 1., 0., 1., 0., 1., 0., 1., 1., 0., 0., 1., 1., 0., 1., 0.,\n",
       "       1., 0., 1., 1., 0., 1., 0., 1., 0., 0., 0., 1., 1., 0., 0., 0., 1.,\n",
       "       1., 0., 0., 1., 0., 0., 1., 1., 0., 0., 0., 1., 0., 0., 1., 0., 1.,\n",
       "       1., 1., 1., 1., 0., 1., 1., 1., 0., 1., 1., 0.])"
      ]
     },
     "execution_count": 22,
     "metadata": {},
     "output_type": "execute_result"
    }
   ],
   "source": [
    "y_test"
   ]
  },
  {
   "cell_type": "code",
   "execution_count": 23,
   "id": "06534998-cf82-4568-b6d1-931131e26c10",
   "metadata": {},
   "outputs": [
    {
     "data": {
      "text/plain": [
       "1.0"
      ]
     },
     "execution_count": 23,
     "metadata": {},
     "output_type": "execute_result"
    }
   ],
   "source": [
    "accuracy_score(y_test, y_pred)"
   ]
  },
  {
   "cell_type": "code",
   "execution_count": 24,
   "id": "0a273c3f-608a-4d3c-9421-627c28e59157",
   "metadata": {},
   "outputs": [
    {
     "name": "stdout",
     "output_type": "stream",
     "text": [
      "              precision    recall  f1-score   support\n",
      "\n",
      "         0.0       1.00      1.00      1.00        39\n",
      "         1.0       1.00      1.00      1.00        41\n",
      "\n",
      "    accuracy                           1.00        80\n",
      "   macro avg       1.00      1.00      1.00        80\n",
      "weighted avg       1.00      1.00      1.00        80\n",
      "\n"
     ]
    }
   ],
   "source": [
    "print(classification_report(y_test, y_pred))"
   ]
  },
  {
   "cell_type": "code",
   "execution_count": 25,
   "id": "d44d0c24-0e63-42c8-bb5a-189e3d9f3925",
   "metadata": {},
   "outputs": [
    {
     "data": {
      "image/png": "[encoded data removed]",
      "text/plain": [
       "<Figure size 400x300 with 2 Axes>"
      ]
     },
     "metadata": {},
     "output_type": "display_data"
    }
   ],
   "source": [
    "cm = confusion_matrix(y_test, y_pred)\n",
    "plt.figure(figsize=(4,3))\n",
    "g = sns.heatmap(cm, cmap='Blues', annot=True, fmt='g') # fmt='g' = to disable scientific\n",
    "g.set_xticklabels(labels=['No Mask (0)' , 'Mask (1)'], rotation=30)\n",
    "g.set_yticklabels(labels=['No Mask (0)' , 'Mask (1)'], rotation=0)\n",
    "plt.ylabel('True Label', fontsize=14)\n",
    "plt.xlabel('Predicted Label', fontsize=14)\n",
    "plt.title('Confusion Matrix', fontsize=16)\n",
    "plt.show()"
   ]
  },
  {
   "cell_type": "code",
   "execution_count": 1,
   "id": "85add309-b347-4111-b9f0-f71075158b1d",
   "metadata": {},
   "outputs": [
    {
     "ename": "NameError",
     "evalue": "name 'cv' is not defined",
     "output_type": "error",
     "traceback": [
      "\u001b[1;31m---------------------------------------------------------------------------\u001b[0m",
      "\u001b[1;31mNameError\u001b[0m                                 Traceback (most recent call last)",
      "Cell \u001b[1;32mIn[1], line 1\u001b[0m\n\u001b[1;32m----> 1\u001b[0m capture \u001b[38;5;241m=\u001b[39m cv\u001b[38;5;241m.\u001b[39mVideoCapture(\u001b[38;5;241m0\u001b[39m)\n\u001b[0;32m      2\u001b[0m \u001b[38;5;66;03m# capture = cv.VideoCapture('full.mp4')\u001b[39;00m\n\u001b[0;32m      3\u001b[0m names \u001b[38;5;241m=\u001b[39m {\u001b[38;5;241m0\u001b[39m: \u001b[38;5;124m'\u001b[39m\u001b[38;5;124mNo Mask\u001b[39m\u001b[38;5;124m'\u001b[39m, \u001b[38;5;241m1\u001b[39m: \u001b[38;5;124m'\u001b[39m\u001b[38;5;124mMask\u001b[39m\u001b[38;5;124m'\u001b[39m}\n",
      "\u001b[1;31mNameError\u001b[0m: name 'cv' is not defined"
     ]
    }
   ],
   "source": [
    "capture = cv.VideoCapture(0)\n",
    "# capture = cv.VideoCapture('full.mp4')\n",
    "names = {0: 'No Mask', 1: 'Mask'}\n",
    "data = []\n",
    "font = cv.FONT_HERSHEY_COMPLEX\n",
    "\n",
    "while True:\n",
    "    ret, img = capture.read()\n",
    "\n",
    "    if ret:\n",
    "        faces = pretrained.detectMultiScale(img)\n",
    "        for x, y, w, h in faces:\n",
    "            cv.rectangle(img, (x, y), (x + w, y + h), (255, 0, 255), 4)\n",
    "            face = img[y:y + h, x:x + w, :]\n",
    "            face = cv.resize(face, (50, 50))\n",
    "            face = face.reshape(1, -1)\n",
    "            face = pca.transform(face)\n",
    "            pred = model.predict(face)\n",
    "            n = names[int(pred)]\n",
    "            cv.putText(img, n, (x, y), font, 1, (244, 250, 250), 2)\n",
    "            # print(n)\n",
    "\n",
    "        cv.imshow('Window', img)\n",
    "\n",
    "        if cv.waitKey(2) == 27:\n",
    "            break\n",
    "\n",
    "capture.release()\n",
    "cv.destroyAllWindows()\n"
   ]
  },
  {
   "cell_type": "code",
   "execution_count": null,
   "id": "17902ba9-6f06-4976-9856-b33c01bb8586",
   "metadata": {},
   "outputs": [],
   "source": []
  },
  {
   "cell_type": "code",
   "execution_count": null,
   "id": "ca74c0ef-ca14-495f-8ec9-8f75a9818036",
   "metadata": {},
   "outputs": [],
   "source": []
  },
  {
   "cell_type": "code",
   "execution_count": null,
   "id": "076c35aa-8982-4f8a-9a1f-5d86e88612bc",
   "metadata": {},
   "outputs": [],
   "source": []
  },
  {
   "cell_type": "code",
   "execution_count": null,
   "id": "5fe1a8a2-dd89-4782-8e04-8c7159719a95",
   "metadata": {},
   "outputs": [],
   "source": []
  }
 ],
 "metadata": {
  "kernelspec": {
   "display_name": "Python 3 (ipykernel)",
   "language": "python",
   "name": "python3"
  },
  "language_info": {
   "codemirror_mode": {
    "name": "ipython",
    "version": 3
   },
   "file_extension": ".py",
   "mimetype": "text/x-python",
   "name": "python",
   "nbconvert_exporter": "python",
   "pygments_lexer": "ipython3",
   "version": "3.11.5"
  }
 },
 "nbformat": 4,
 "nbformat_minor": 5
}
